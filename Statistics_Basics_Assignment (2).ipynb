{
  "nbformat": 4,
  "nbformat_minor": 0,
  "metadata": {
    "colab": {
      "provenance": []
    },
    "kernelspec": {
      "name": "python3",
      "display_name": "Python 3"
    },
    "language_info": {
      "name": "python"
    }
  },
  "cells": [
    {
      "cell_type": "markdown",
      "source": [
        "####Statistics Basics Assignment"
      ],
      "metadata": {
        "id": "F-kz7MMzaAd4"
      }
    },
    {
      "cell_type": "markdown",
      "source": [
        "#  Question 1: What is the difference between descriptive statistics and inferential statistics?\n",
        "\n",
        "Statistics is the backbone of data analysis, and it’s divided into two major branches: **descriptive statistics** and **inferential statistics**. Understanding the difference between them is crucial for interpreting data correctly and making informed decisions.\n",
        "\n",
        "## Descriptive Statistics\n",
        "\n",
        "Descriptive statistics are used to **summarize, organize, and present data** in a meaningful way. They help us understand the basic features of a dataset without making any assumptions beyond the data itself.\n",
        "\n",
        "### Key Techniques:\n",
        "- **Measures of Central Tendency**: Mean, Median, Mode\n",
        "- **Measures of Dispersion**: Range, Variance, Standard Deviation\n",
        "- **Data Visualization**: Histograms, Pie Charts, Boxplots\n",
        "\n",
        "### Example:\n",
        "Imagine a teacher collects test scores from 50 students. She calculates:\n",
        "- Mean score = 75\n",
        "- Median score = 73\n",
        "- Standard deviation = 10\n",
        "\n",
        "She also creates a histogram to visualize the distribution. These summaries describe the performance of this specific class only.\n",
        "\n",
        "## Inferential Statistics\n",
        "\n",
        "Inferential statistics go beyond describing data. They use sample data to **make predictions or generalizations about a larger population**. This involves probability theory and statistical models.\n",
        "\n",
        "### Key Techniques:\n",
        "- Hypothesis Testing\n",
        "- Confidence Intervals\n",
        "- Regression Analysis\n",
        "\n",
        "### Example:\n",
        "Using the same class scores, the teacher wants to know if her class performed better than the school average. She performs a **t-test** to compare the class mean (75) with the school average (70). She might also construct a **95% confidence interval** to estimate the true mean score of all students.\n",
        "\n",
        "## Comparison Table\n",
        "\n",
        "| Feature               | Descriptive Statistics                  | Inferential Statistics                     |\n",
        "|----------------------|------------------------------------------|--------------------------------------------|\n",
        "| Purpose              | Summarize and describe data              | Make predictions or generalizations        |\n",
        "| Scope                | Limited to the sample                    | Extends to the population                  |\n",
        "| Techniques           | Mean, Median, Mode, Charts               | Hypothesis Testing, Confidence Intervals   |\n",
        "| Example              | Average score of one class               | Estimating school-wide performance         |\n",
        "\n",
        "##  Conclusion\n",
        "\n",
        "Descriptive statistics help us understand what’s happening in a dataset. Inferential statistics help us make decisions and predictions based on that understanding. Both are essential tools in data science, research, and business analytics.\n",
        "\n",
        "\n",
        "\n",
        "#  Question 2: What is Sampling in Statistics? Explain the Differences Between Random and Stratified Sampling\n",
        "\n",
        "Sampling is a fundamental concept in statistics that allows researchers to study a portion of a population instead of the entire group. This is especially useful when the population is large, and collecting data from every individual would be too expensive, time-consuming, or impractical.\n",
        "\n",
        "## What is Sampling?\n",
        "\n",
        "Sampling involves selecting a subset of individuals, items, or observations from a larger population. The goal is to ensure that this sample accurately represents the population so that conclusions drawn from the sample can be generalized.\n",
        "\n",
        "Sampling is the backbone of statistical inference. Without it, we wouldn’t be able to make predictions or test hypotheses about populations.\n",
        "\n",
        "## Types of Sampling: Random vs. Stratified\n",
        "\n",
        "### Random Sampling (Simple Random Sampling)\n",
        "\n",
        "In random sampling, every member of the population has an **equal and independent chance** of being selected. This method is straightforward and minimizes bias, making it ideal for general-purpose studies.\n",
        "\n",
        "**Example:**  \n",
        "Suppose a university has 10,000 students. To study average stress levels, a researcher randomly selects 100 students using a random number generator. Each student has the same chance of being picked, regardless of their year, major, or background.\n",
        "\n",
        "**Advantages:**  \n",
        "- Easy to implement  \n",
        "- Minimizes selection bias  \n",
        "- Suitable when the population is homogeneous\n",
        "\n",
        "**Limitations:**  \n",
        "- May underrepresent small or minority groups  \n",
        "- Doesn’t guarantee proportional representation\n",
        "\n",
        "---\n",
        "\n",
        "### Stratified Sampling\n",
        "\n",
        "Stratified sampling divides the population into **distinct subgroups (strata)** based on specific characteristics like age, gender, income, or education level. Then, random samples are taken from each stratum in proportion to its size in the population.\n",
        "\n",
        "**Example:**  \n",
        "In the same university, if 60% of students are undergraduates and 40% are graduates, the researcher selects 60 undergrads and 40 grads for a sample of 100. This ensures both groups are properly represented.\n",
        "\n",
        "**Advantages:**  \n",
        "- Ensures representation of key subgroups  \n",
        "- Produces more accurate and reliable estimates  \n",
        "- Reduces sampling error\n",
        "\n",
        "**Limitations:**  \n",
        "- Requires detailed population information  \n",
        "- More complex and time-consuming to implement\n",
        "\n",
        "---\n",
        "\n",
        "## Comparison Table\n",
        "\n",
        "| Feature              | Random Sampling                         | Stratified Sampling                          |\n",
        "|----------------------|------------------------------------------|-----------------------------------------------|\n",
        "| Selection Method     | Equal chance for all individuals         | Random selection within defined subgroups     |\n",
        "| Representation       | May miss minority groups                 | Ensures subgroup representation               |\n",
        "| Complexity           | Simple and quick                         | Requires population structure knowledge       |\n",
        "| Use Case             | Homogeneous populations                  | Diverse populations with distinct categories  |\n",
        "\n",
        "---\n",
        "\n",
        "## Conclusion\n",
        "\n",
        "Both random and stratified sampling are powerful tools in statistical research. Random sampling is ideal for simplicity and unbiased selection, while stratified sampling is better suited for studies\n",
        "\n",
        "#  Question 3: Define Mean, Median, and Mode. Explain Why These Measures of Central Tendency Are Important.\n",
        "\n",
        "In statistics, measures of central tendency are used to identify a single value that best represents a dataset. These values help simplify complex data and provide insights into typical behavior or performance. The three most commonly used measures are **mean**, **median**, and **mode**.\n",
        "\n",
        "---\n",
        "\n",
        "##  Mean (Arithmetic Average)\n",
        "\n",
        "The **mean** is calculated by adding all the values in a dataset and dividing by the number of observations. It gives a sense of the overall level of the data.\n",
        "\n",
        "### Formula:\n",
        "Mean = (Sum of all values) / (Number of values)\n",
        "\n",
        "### Example:\n",
        "For the dataset [70, 80, 90, 100, 60],  \n",
        "Mean = (70 + 80 + 90 + 100 + 60) / 5 = 400 / 5 = **80**\n",
        "\n",
        "### Characteristics:\n",
        "- Sensitive to outliers (extremely high or low values)\n",
        "- Best used when data is symmetrically distributed\n",
        "\n",
        "---\n",
        "\n",
        "##  Median\n",
        "\n",
        "The **median** is the middle value when the data is arranged in ascending order. If the number of observations is even, it’s the average of the two middle values.\n",
        "\n",
        "### Example:\n",
        "For [60, 70, 80, 90, 100], the median is **80**  \n",
        "For [60, 70, 80, 90], the median is (70 + 80) / 2 = **75**\n",
        "\n",
        "### Characteristics:\n",
        "- Not affected by outliers\n",
        "- Ideal for skewed distributions\n",
        "\n",
        "---\n",
        "\n",
        "##  Mode\n",
        "\n",
        "The **mode** is the value that appears most frequently in a dataset. A dataset can be:\n",
        "- **Unimodal**: One mode\n",
        "- **Bimodal**: Two modes\n",
        "- **Multimodal**: More than two modes\n",
        "- **No mode**: All values occur equally\n",
        "\n",
        "### Example:\n",
        "For [60, 70, 70, 80, 90], the mode is **70**\n",
        "\n",
        "### Characteristics:\n",
        "- Useful for categorical data\n",
        "- Highlights the most common value\n",
        "\n",
        "---\n",
        "\n",
        "##  Why These Measures Matter\n",
        "\n",
        "### 1. **Simplify Complex Data**\n",
        "They reduce large datasets to a single representative value, making interpretation easier.\n",
        "\n",
        "### 2. **Enable Comparisons**\n",
        "They allow comparisons across different groups or time periods.  \n",
        "*Example:* Comparing average test scores between two classes.\n",
        "\n",
        "### 3. **Support Decision-Making**\n",
        "Businesses and policymakers use these measures to guide strategies.  \n",
        "*Example:* A company may use the mode to identify the most popular product size.\n",
        "\n",
        "### 4. **Adapt to Data Characteristics**\n",
        "- Use **mean** for balanced data  \n",
        "- Use **median** for skewed data  \n",
        "- Use **mode** for categorical or frequency-based analysis\n",
        "\n",
        "### 5. **Foundation for Advanced Analysis**\n",
        "They serve as the basis for more complex statistical tools like regression, hypothesis testing, and forecasting.\n",
        "\n",
        "---\n",
        "\n",
        "##  Conclusion\n",
        "\n",
        "Mean, median, and mode are essential tools in statistics. Each offers a unique perspective on the data, and choosing the right one depends on the nature of the dataset and the goals of the analysis. Together, they help us understand, compare, and make informed decisions based on data.\n",
        "\n",
        "\n",
        "#  Question 4: Explain Skewness and Kurtosis. What Does a Positive Skew Imply About the Data?\n",
        "\n",
        "When analyzing data, it’s not enough to know the average or spread—you also need to understand the **shape** of the distribution. Two key concepts that help describe this shape are **skewness** and **kurtosis**.\n",
        "\n",
        "---\n",
        "\n",
        "##  Skewness: Measuring Asymmetry\n",
        "\n",
        "**Skewness** tells us whether the data is symmetrically distributed around the mean or if it leans more to one side.\n",
        "\n",
        "### Types of Skewness:\n",
        "- **Positive Skew (Right-Skewed):**  \n",
        "  The tail on the right side is longer. Most values are concentrated on the left, and a few large values stretch the distribution to the right.  \n",
        "  **Mean > Median > Mode**\n",
        "\n",
        "- **Negative Skew (Left-Skewed):**  \n",
        "  The tail on the left side is longer. Most values are higher, but a few small values pull the distribution to the left.  \n",
        "  **Mean < Median < Mode**\n",
        "\n",
        "- **Zero Skew (Symmetric):**  \n",
        "  The distribution is balanced on both sides of the mean.  \n",
        "  **Mean ≈ Median ≈ Mode**\n",
        "\n",
        "### Real-World Example:\n",
        "Income data often shows **positive skew**—most people earn moderate incomes, but a few earn extremely high salaries, pulling the mean upward.\n",
        "\n",
        "---\n",
        "\n",
        "##  Kurtosis: Measuring Tailedness\n",
        "\n",
        "**Kurtosis** describes how heavy or light the tails of a distribution are compared to a normal distribution. It helps identify the presence of outliers.\n",
        "\n",
        "### Types of Kurtosis:\n",
        "- **Leptokurtic (High Kurtosis):**  \n",
        "  Heavy tails and a sharp peak. More extreme values (outliers) than a normal distribution.\n",
        "\n",
        "- **Platykurtic (Low Kurtosis):**  \n",
        "  Light tails and a flatter peak. Fewer outliers.\n",
        "\n",
        "- **Mesokurtic (Normal Kurtosis):**  \n",
        "  Similar to a normal distribution. Moderate tails and peak.\n",
        "\n",
        "### Real-World Example:\n",
        "Stock market returns often show **high kurtosis**, meaning sudden gains or losses are more frequent than expected.\n",
        "\n",
        "---\n",
        "\n",
        "##  What Does a Positive Skew Imply?\n",
        "\n",
        "A **positive skew** means the data has a longer tail on the right. Most values are below the mean, and a few high values stretch the distribution.\n",
        "\n",
        "### Implications:\n",
        "- The **mean** is pulled higher by extreme values.\n",
        "- The **median** is a better measure of central tendency in this case.\n",
        "- Decision-making based on the mean may be misleading.\n",
        "\n",
        "### Example:\n",
        "Consider house prices:  \n",
        "[100,000, 150,000, 200,000, 250,000, 1,000,000]  \n",
        "The mean is much higher than the typical price due to the one expensive house.\n",
        "\n",
        "---\n",
        "\n",
        "##  Why Skewness and Kurtosis Matter\n",
        "\n",
        "- They help choose the right statistical tools and measures.\n",
        "- They reveal hidden patterns in data that averages alone can’t show.\n",
        "- They are critical in fields like finance, healthcare, and quality control where outliers and asymmetry can have major consequences.\n",
        "\n",
        "---\n",
        "\n",
        "##  Conclusion\n",
        "\n",
        "Skewness and kurtosis provide deeper insights into the shape and behavior of data distributions. A positive skew indicates a concentration of lower values with a few high outliers, while kurtosis reveals how extreme those outliers are. Understanding these concepts helps analysts make smarter, more accurate decisions.\n",
        "\n",
        "\n",
        "### Q5: Implement a Python program to compute the mean, median, and mode of a given list of numbers.\n",
        "\n",
        "numbers = [12, 15, 12, 18, 19, 12, 20, 22, 19, 19, 24, 24, 24, 26, 28]\n",
        "\n",
        "\n",
        "**Answer:**  \n",
        "Let's break down the implementation step by step."
      ],
      "metadata": {
        "id": "Jq3bdFCwaM50"
      }
    },
    {
      "cell_type": "code",
      "source": [
        "\n",
        "# Step 1: Import necessary functions\n",
        "from statistics import mean, median, multimode\n",
        "\n",
        "# Step 2: Define the dataset\n",
        "numbers = [12, 15, 12, 18, 19, 12, 20, 22, 19, 19, 24, 24, 24, 26, 28]\n",
        "\n",
        "# Step 3: Calculate Mean\n",
        "mean_value = mean(numbers)  # Average of all values\n",
        "\n",
        "# Step 4: Calculate Median\n",
        "median_value = median(numbers)  # Middle value when sorted\n",
        "\n",
        "# Step 5: Calculate Mode\n",
        "mode_value = multimode(numbers)  # Handles multiple modes\n",
        "\n",
        "# Step 6: Display the results\n",
        "print(\"Dataset:\", numbers)\n",
        "print(\"Mean:\", mean_value)\n",
        "print(\"Median:\", median_value)\n",
        "print(\"Mode:\", mode_value)\n"
      ],
      "metadata": {
        "colab": {
          "base_uri": "https://localhost:8080/"
        },
        "id": "QjMbTSxQcnW_",
        "outputId": "e946cb97-cc6e-47d9-ff63-98b0303b06d6"
      },
      "execution_count": 2,
      "outputs": [
        {
          "output_type": "stream",
          "name": "stdout",
          "text": [
            "Dataset: [12, 15, 12, 18, 19, 12, 20, 22, 19, 19, 24, 24, 24, 26, 28]\n",
            "Mean: 19.6\n",
            "Median: 19\n",
            "Mode: [12, 19, 24]\n"
          ]
        }
      ]
    },
    {
      "cell_type": "markdown",
      "source": [
        "# Output Interpretation\n",
        "\n",
        "- **Mean**: The arithmetic average of the dataset. It gives a general idea of the overall level.\n",
        "- **Median**: The middle value, which is less affected by outliers.\n",
        "- **Mode**: The most frequently occurring value(s). In this case, there are multiple modes.\n",
        "\n",
        "### Example Output:\n",
        "Dataset: [12, 15, 12, 18, 19, 12, 20, 22, 19, 19, 24, 24, 24, 26, 28] Mean: 19.6 Median: 19 Mode: [12, 19, 24]\n",
        "\n",
        "\n",
        "This output shows that the dataset has three values that occur most frequently, making it **multimodal**. The mean is slightly higher than the median, suggesting a mild right skew.\n",
        "\n",
        "---\n"
      ],
      "metadata": {
        "id": "HjRRYYT7cxE9"
      }
    },
    {
      "cell_type": "markdown",
      "source": [
        "### Q6: Compute the covariance and correlation coefficient between the following two datasets provided as lists in Python:\n",
        "\n",
        "list_x = [10, 20, 30, 40, 50]\n",
        "list_y = [15, 25, 35, 45, 60]\n",
        "\n",
        "**Answer:**  \n",
        "Both **covariance** and **correlation** measure the relationship between two variables.  \n",
        "\n",
        "1. **Covariance:**  \n",
        "   - Shows whether two variables move in the same direction.  \n",
        "   - Positive covariance: variables increase together.  \n",
        "   - Negative covariance: one increases while the other decreases.  \n",
        "\n",
        "2. **Correlation Coefficient (r):**  \n",
        "   - A standardized form of covariance.  \n",
        "   - Ranges from −1 to +1.  \n",
        "   - **+1:** Perfect positive relation.  \n",
        "   - **−1:** Perfect negative relation.  \n",
        "   - **0:** No linear relation.  \n",
        "\n",
        "We can compute them in Python using `numpy`.  \n"
      ],
      "metadata": {
        "id": "S0s3yofNcyb2"
      }
    },
    {
      "cell_type": "code",
      "source": [
        "import numpy as np\n",
        "\n",
        "list_x = [10, 20, 30, 40, 50]\n",
        "list_y = [15, 25, 35, 45, 60]\n",
        "\n",
        "covariance = np.cov(list_x, list_y)[0][1]\n",
        "correlation = np.corrcoef(list_x, list_y)[0][1]\n",
        "\n",
        "print(\"Covariance:\", covariance)\n",
        "print(\"Correlation Coefficient:\", correlation)\n"
      ],
      "metadata": {
        "colab": {
          "base_uri": "https://localhost:8080/"
        },
        "id": "cdnkALs1c4S4",
        "outputId": "21258980-9d9d-41d6-90a0-05e2c38c1316"
      },
      "execution_count": 2,
      "outputs": [
        {
          "output_type": "stream",
          "name": "stdout",
          "text": [
            "Covariance: 275.0\n",
            "Correlation Coefficient: 0.995893206467704\n"
          ]
        }
      ]
    },
    {
      "cell_type": "markdown",
      "source": [
        "**Explanation:**  \n",
        "- Covariance indicates the direction of movement.  \n",
        "- Correlation shows both direction and strength.  \n",
        "- In this case, both values are positive, meaning as `x` increases, `y` also increases strongly.\n"
      ],
      "metadata": {
        "id": "z2D83_JXc8Vm"
      }
    },
    {
      "cell_type": "markdown",
      "source": [
        "### Q7: Write a Python script to draw a boxplot for the following numeric list and identify its outliers. Explain the result:\n",
        "\n",
        "data = [12, 14, 14, 15, 18, 19, 19, 21, 22, 22, 23, 23, 24, 26, 29, 35]\n",
        "\n",
        "\n",
        "**Answer:**  \n",
        "A **boxplot** is a graphical tool that shows the distribution of data using quartiles.  \n",
        "It displays:  \n",
        "- Minimum,  \n",
        "- First Quartile (Q1),  \n",
        "- Median (Q2),  \n",
        "- Third Quartile (Q3),  \n",
        "- Maximum,  \n",
        "- And highlights outliers as points outside whiskers.  \n",
        "\n",
        "We can use `matplotlib` in Python to create a boxplot.  \n"
      ],
      "metadata": {
        "id": "-kX2XU2dc-mH"
      }
    },
    {
      "cell_type": "code",
      "source": [
        "import matplotlib.pyplot as plt\n",
        "\n",
        "data = [12, 14, 14, 15, 18, 19, 19, 21, 22, 22, 23, 23, 24, 26, 29, 35]\n",
        "\n",
        "plt.boxplot(data)\n",
        "plt.title(\"Boxplot of Data\")\n",
        "plt.show()\n"
      ],
      "metadata": {
        "colab": {
          "base_uri": "https://localhost:8080/",
          "height": 452
        },
        "id": "10maWWpEdDKv",
        "outputId": "a2b78d46-1aad-4e1e-beca-c583fc1712fa"
      },
      "execution_count": 3,
      "outputs": [
        {
          "output_type": "display_data",
          "data": {
            "text/plain": [
              "<Figure size 640x480 with 1 Axes>"
            ],
            "image/png": "[encoded data removed]"
          },
          "metadata": {}
        }
      ]
    },
    {
      "cell_type": "markdown",
      "source": [
        "**Explanation:**  \n",
        "- The middle line represents the **median**.  \n",
        "- The box represents the interquartile range (Q1–Q3).  \n",
        "- Whiskers extend to the minimum and maximum within range.  \n",
        "- Values outside whiskers are **outliers**.  \n",
        "\n",
        "Here, `35` lies far above the other values and may be considered an outlier.\n"
      ],
      "metadata": {
        "id": "Dhf9bzj8dHmY"
      }
    },
    {
      "cell_type": "markdown",
      "source": [
        "### Q8: You are working as a data analyst in an e-commerce company. The marketing team wants to know if there is a relationship between advertising spend and daily sales.\n",
        "\n",
        "● Explain how you would use covariance and correlation to explore this relationship.\n",
        "\n",
        "● Write Python code to compute the correlation between the two lists:\n",
        "\n",
        "advertising_spend = [200, 250, 300, 400, 500]\n",
        "daily_sales = [2200, 2450, 2750, 3200, 4000]\n",
        "\n",
        "\n",
        "**Answer:**  \n",
        "In business, companies often want to check if increasing advertising leads to more sales.  \n",
        "We can measure this relationship using **covariance** and **correlation**.  \n",
        "\n",
        "- **Covariance** will tell if both variables move together.  \n",
        "- **Correlation** will tell how strong and consistent this relation is.  \n",
        "\n",
        "A high positive correlation means more spending is associated with higher sales.  \n"
      ],
      "metadata": {
        "id": "s7KBzdPSdIqt"
      }
    },
    {
      "cell_type": "code",
      "source": [
        "\n",
        "# Step-by-step Python Implementation\n",
        "\n",
        "# Define the datasets\n",
        "advertising_spend = [200, 250, 300, 400, 500]\n",
        "daily_sales = [2200, 2450, 2750, 3200, 4000]\n",
        "\n",
        "# Function to calculate mean\n",
        "def calculate_mean(data):\n",
        "    return sum(data) / len(data)\n",
        "\n",
        "# Function to calculate covariance\n",
        "def calculate_covariance(x, y):\n",
        "    mean_x = calculate_mean(x)\n",
        "    mean_y = calculate_mean(y)\n",
        "    n = len(x)\n",
        "    cov = sum((x[i] - mean_x) * (y[i] - mean_y) for i in range(n)) / (n - 1)\n",
        "    return cov\n",
        "\n",
        "# Function to calculate standard deviation\n",
        "def calculate_std(data):\n",
        "    mean_val = calculate_mean(data)\n",
        "    squared_diffs = [(x - mean_val) ** 2 for x in data]\n",
        "    return (sum(squared_diffs) / (len(data) - 1)) ** 0.5\n",
        "\n",
        "# Function to calculate correlation coefficient\n",
        "def calculate_correlation(x, y):\n",
        "    cov = calculate_covariance(x, y)\n",
        "    std_x = calculate_std(x)\n",
        "    std_y = calculate_std(y)\n",
        "    return cov / (std_x * std_y)\n",
        "\n",
        "# Compute results\n",
        "covariance_result = calculate_covariance(advertising_spend, daily_sales)\n",
        "correlation_result = calculate_correlation(advertising_spend, daily_sales)\n",
        "\n",
        "# Display results\n",
        "print(\"Advertising Spend:\", advertising_spend)\n",
        "print(\"Daily Sales:\", daily_sales)\n",
        "print(\"Covariance:\", round(covariance_result, 2))\n",
        "print(\"Correlation Coefficient:\", round(correlation_result, 3))\n"
      ],
      "metadata": {
        "colab": {
          "base_uri": "https://localhost:8080/"
        },
        "id": "s8H_HFRydMFu",
        "outputId": "edaa9a68-03b7-48dc-d79a-96f30408b4cd"
      },
      "execution_count": 3,
      "outputs": [
        {
          "output_type": "stream",
          "name": "stdout",
          "text": [
            "Advertising Spend: [200, 250, 300, 400, 500]\n",
            "Daily Sales: [2200, 2450, 2750, 3200, 4000]\n",
            "Covariance: 84875.0\n",
            "Correlation Coefficient: 0.994\n"
          ]
        }
      ]
    },
    {
      "cell_type": "markdown",
      "source": [
        "\n",
        "- The **positive covariance** indicates that as advertising spend increases, daily sales also increase.\n",
        "- The **correlation coefficient of 0.994** shows a **very strong positive relationship**, almost perfect.\n",
        "\n",
        "---\n",
        "\n",
        "## Conclusion\n",
        "\n",
        "This analysis confirms a strong link between advertising and sales. The company can confidently invest more in advertising, knowing it’s likely to boost revenue. Covariance shows the direction of the relationship, while correlation quantifies its strength—both are essential tools in data-driven decision-making.\n"
      ],
      "metadata": {
        "id": "CnfH-cCxdQK3"
      }
    },
    {
      "cell_type": "markdown",
      "source": [
        "### Q9: Your team has collected customer satisfaction survey data on a scale of 1-10 and wants to understand its distribution before launching a new product.\n",
        "\n",
        "● Explain which summary statistics and visualizations (e.g. mean, standard deviation, histogram) you’d use.\n",
        "\n",
        "● Write Python code to create a histogram using Matplotlib for the survey data:\n",
        "\n",
        "survey_scores = [7, 8, 5, 9, 6, 7, 8, 9, 10, 4, 7, 6, 9, 8, 7]\n",
        "\n",
        "\n",
        "**Answer:**  \n",
        "When analyzing survey data (scale of 1–10), we want to know both the **average satisfaction level** and the **spread of responses**.  \n",
        "\n",
        "1. **Mean:** Shows the overall average score of customers.  \n",
        "2. **Standard Deviation:** Indicates how much the scores vary from the mean.  \n",
        "   - Small std.dev = scores are close to average.  \n",
        "   - Large std.dev = scores are spread out widely.  \n",
        "3. **Histogram:** A chart that shows how often each score occurs, making it easier to see patterns.  \n",
        "\n",
        "We can calculate and plot using Python.  \n"
      ],
      "metadata": {
        "id": "5dWz3IaWdRT4"
      }
    },
    {
      "cell_type": "code",
      "source": [
        "import matplotlib.pyplot as plt\n",
        "import statistics\n",
        "\n",
        "survey_scores = [7, 8, 5, 9, 6, 7, 8, 9, 10, 4, 7, 6, 9, 8, 7]\n",
        "\n",
        "mean = statistics.mean(survey_scores)\n",
        "std_dev = statistics.stdev(survey_scores)\n",
        "\n",
        "print(\"Mean:\", mean)\n",
        "print(\"Standard Deviation:\", std_dev)\n",
        "\n",
        "plt.hist(survey_scores, bins=7, edgecolor=\"black\")\n",
        "plt.title(\"Survey Score Distribution\")\n",
        "plt.xlabel(\"Scores\")\n",
        "plt.ylabel(\"Frequency\")\n",
        "plt.show()\n"
      ],
      "metadata": {
        "colab": {
          "base_uri": "https://localhost:8080/",
          "height": 507
        },
        "id": "MNy3NIwbdY18",
        "outputId": "657a6a3f-9a51-4f8e-cf40-033a9145c805"
      },
      "execution_count": 5,
      "outputs": [
        {
          "output_type": "stream",
          "name": "stdout",
          "text": [
            "Mean: 7.333333333333333\n",
            "Standard Deviation: 1.632993161855452\n"
          ]
        },
        {
          "output_type": "display_data",
          "data": {
            "text/plain": [
              "<Figure size 640x480 with 1 Axes>"
            ],
            "image/png": "[encoded data removed]"
          },
          "metadata": {}
        }
      ]
    },
    {
      "cell_type": "markdown",
      "source": [
        "**Explanation:**  \n",
        "- The **mean** shows the general satisfaction level.  \n",
        "- The **standard deviation** shows if most customers agree or if opinions vary widely.  \n",
        "- The **histogram** helps visualize whether scores are clustered (most people satisfied) or spread (mixed satisfaction).  \n",
        "\n",
        "This analysis helps companies improve services before launching a new product.\n"
      ],
      "metadata": {
        "id": "kgYcOuPldbPn"
      }
    },
    {
      "cell_type": "code",
      "source": [],
      "metadata": {
        "id": "34HvHbzAaEK6"
      },
      "execution_count": null,
      "outputs": []
    }
  ]
}